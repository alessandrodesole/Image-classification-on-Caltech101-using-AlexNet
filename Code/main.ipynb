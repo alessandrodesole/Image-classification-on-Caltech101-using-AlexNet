{
  "nbformat": 4,
  "nbformat_minor": 0,
  "metadata": {
    "colab": {
      "name": "Image-classification-on-Caltech101.ipynb",
      "provenance": [],
      "collapsed_sections": []
    },
    "kernelspec": {
      "name": "python3",
      "display_name": "Python 3"
    },
    "accelerator": "GPU",
    "widgets": {
      "application/vnd.jupyter.widget-state+json": {
        "2652cd6be4894b409e13258c2eb0fc0d": {
          "model_module": "@jupyter-widgets/controls",
          "model_name": "HBoxModel",
          "state": {
            "_view_name": "HBoxView",
            "_dom_classes": [],
            "_model_name": "HBoxModel",
            "_view_module": "@jupyter-widgets/controls",
            "_model_module_version": "1.5.0",
            "_view_count": null,
            "_view_module_version": "1.5.0",
            "box_style": "",
            "layout": "IPY_MODEL_bcd73c54cf56471d8121258cabcc30b1",
            "_model_module": "@jupyter-widgets/controls",
            "children": [
              "IPY_MODEL_809c8859554a4a43bffe40889b96686c",
              "IPY_MODEL_e4c1169f38b94db89b24ae0997ffe91e"
            ]
          }
        },
        "bcd73c54cf56471d8121258cabcc30b1": {
          "model_module": "@jupyter-widgets/base",
          "model_name": "LayoutModel",
          "state": {
            "_view_name": "LayoutView",
            "grid_template_rows": null,
            "right": null,
            "justify_content": null,
            "_view_module": "@jupyter-widgets/base",
            "overflow": null,
            "_model_module_version": "1.2.0",
            "_view_count": null,
            "flex_flow": null,
            "width": null,
            "min_width": null,
            "border": null,
            "align_items": null,
            "bottom": null,
            "_model_module": "@jupyter-widgets/base",
            "top": null,
            "grid_column": null,
            "overflow_y": null,
            "overflow_x": null,
            "grid_auto_flow": null,
            "grid_area": null,
            "grid_template_columns": null,
            "flex": null,
            "_model_name": "LayoutModel",
            "justify_items": null,
            "grid_row": null,
            "max_height": null,
            "align_content": null,
            "visibility": null,
            "align_self": null,
            "height": null,
            "min_height": null,
            "padding": null,
            "grid_auto_rows": null,
            "grid_gap": null,
            "max_width": null,
            "order": null,
            "_view_module_version": "1.2.0",
            "grid_template_areas": null,
            "object_position": null,
            "object_fit": null,
            "grid_auto_columns": null,
            "margin": null,
            "display": null,
            "left": null
          }
        },
        "809c8859554a4a43bffe40889b96686c": {
          "model_module": "@jupyter-widgets/controls",
          "model_name": "FloatProgressModel",
          "state": {
            "_view_name": "ProgressView",
            "style": "IPY_MODEL_88b31a33432f4d119d200bfd71361d49",
            "_dom_classes": [],
            "description": "100%",
            "_model_name": "FloatProgressModel",
            "bar_style": "success",
            "max": 244418560,
            "_view_module": "@jupyter-widgets/controls",
            "_model_module_version": "1.5.0",
            "value": 244418560,
            "_view_count": null,
            "_view_module_version": "1.5.0",
            "orientation": "horizontal",
            "min": 0,
            "description_tooltip": null,
            "_model_module": "@jupyter-widgets/controls",
            "layout": "IPY_MODEL_75b20f7eac8f4acea8eaf704c7e5cffb"
          }
        },
        "e4c1169f38b94db89b24ae0997ffe91e": {
          "model_module": "@jupyter-widgets/controls",
          "model_name": "HTMLModel",
          "state": {
            "_view_name": "HTMLView",
            "style": "IPY_MODEL_47bf1d27efd24686b2b07a9ad7a58a93",
            "_dom_classes": [],
            "description": "",
            "_model_name": "HTMLModel",
            "placeholder": "​",
            "_view_module": "@jupyter-widgets/controls",
            "_model_module_version": "1.5.0",
            "value": " 233M/233M [00:47&lt;00:00, 5.19MB/s]",
            "_view_count": null,
            "_view_module_version": "1.5.0",
            "description_tooltip": null,
            "_model_module": "@jupyter-widgets/controls",
            "layout": "IPY_MODEL_542f76c6e6dd45c2ae979b6f4ef36b1b"
          }
        },
        "88b31a33432f4d119d200bfd71361d49": {
          "model_module": "@jupyter-widgets/controls",
          "model_name": "ProgressStyleModel",
          "state": {
            "_view_name": "StyleView",
            "_model_name": "ProgressStyleModel",
            "description_width": "initial",
            "_view_module": "@jupyter-widgets/base",
            "_model_module_version": "1.5.0",
            "_view_count": null,
            "_view_module_version": "1.2.0",
            "bar_color": null,
            "_model_module": "@jupyter-widgets/controls"
          }
        },
        "75b20f7eac8f4acea8eaf704c7e5cffb": {
          "model_module": "@jupyter-widgets/base",
          "model_name": "LayoutModel",
          "state": {
            "_view_name": "LayoutView",
            "grid_template_rows": null,
            "right": null,
            "justify_content": null,
            "_view_module": "@jupyter-widgets/base",
            "overflow": null,
            "_model_module_version": "1.2.0",
            "_view_count": null,
            "flex_flow": null,
            "width": null,
            "min_width": null,
            "border": null,
            "align_items": null,
            "bottom": null,
            "_model_module": "@jupyter-widgets/base",
            "top": null,
            "grid_column": null,
            "overflow_y": null,
            "overflow_x": null,
            "grid_auto_flow": null,
            "grid_area": null,
            "grid_template_columns": null,
            "flex": null,
            "_model_name": "LayoutModel",
            "justify_items": null,
            "grid_row": null,
            "max_height": null,
            "align_content": null,
            "visibility": null,
            "align_self": null,
            "height": null,
            "min_height": null,
            "padding": null,
            "grid_auto_rows": null,
            "grid_gap": null,
            "max_width": null,
            "order": null,
            "_view_module_version": "1.2.0",
            "grid_template_areas": null,
            "object_position": null,
            "object_fit": null,
            "grid_auto_columns": null,
            "margin": null,
            "display": null,
            "left": null
          }
        },
        "47bf1d27efd24686b2b07a9ad7a58a93": {
          "model_module": "@jupyter-widgets/controls",
          "model_name": "DescriptionStyleModel",
          "state": {
            "_view_name": "StyleView",
            "_model_name": "DescriptionStyleModel",
            "description_width": "",
            "_view_module": "@jupyter-widgets/base",
            "_model_module_version": "1.5.0",
            "_view_count": null,
            "_view_module_version": "1.2.0",
            "_model_module": "@jupyter-widgets/controls"
          }
        },
        "542f76c6e6dd45c2ae979b6f4ef36b1b": {
          "model_module": "@jupyter-widgets/base",
          "model_name": "LayoutModel",
          "state": {
            "_view_name": "LayoutView",
            "grid_template_rows": null,
            "right": null,
            "justify_content": null,
            "_view_module": "@jupyter-widgets/base",
            "overflow": null,
            "_model_module_version": "1.2.0",
            "_view_count": null,
            "flex_flow": null,
            "width": null,
            "min_width": null,
            "border": null,
            "align_items": null,
            "bottom": null,
            "_model_module": "@jupyter-widgets/base",
            "top": null,
            "grid_column": null,
            "overflow_y": null,
            "overflow_x": null,
            "grid_auto_flow": null,
            "grid_area": null,
            "grid_template_columns": null,
            "flex": null,
            "_model_name": "LayoutModel",
            "justify_items": null,
            "grid_row": null,
            "max_height": null,
            "align_content": null,
            "visibility": null,
            "align_self": null,
            "height": null,
            "min_height": null,
            "padding": null,
            "grid_auto_rows": null,
            "grid_gap": null,
            "max_width": null,
            "order": null,
            "_view_module_version": "1.2.0",
            "grid_template_areas": null,
            "object_position": null,
            "object_fit": null,
            "grid_auto_columns": null,
            "margin": null,
            "display": null,
            "left": null
          }
        }
      }
    }
  },
  "cells": [
    {
      "cell_type": "markdown",
      "metadata": {
        "id": "c9QcGnGPdX2C"
      },
      "source": [
        "\n",
        "**Install requirements**"
      ]
    },
    {
      "cell_type": "code",
      "metadata": {
        "id": "k9O3aM3Tb28q"
      },
      "source": [
        "#!pip3 install 'torch==1.3.1'\n",
        "#!pip3 install 'torchvision==0.5.0'\n",
        "#!pip3 install 'Pillow-SIMD'\n",
        "#!pip3 install 'tqdm'"
      ],
      "execution_count": 1,
      "outputs": []
    },
    {
      "cell_type": "code",
      "metadata": {
        "id": "02z_V82W5dkD"
      },
      "source": [
        "#from google.colab import drive\n",
        "#drive.mount('/content/drive')"
      ],
      "execution_count": 2,
      "outputs": []
    },
    {
      "cell_type": "markdown",
      "metadata": {
        "id": "fo942LMOdlh4"
      },
      "source": [
        "**Import libraries**"
      ]
    },
    {
      "cell_type": "code",
      "metadata": {
        "id": "DokFOdD1dJEl"
      },
      "source": [
        "import os\n",
        "import os.path\n",
        "import sys\n",
        "import logging\n",
        "\n",
        "import torch\n",
        "import torch.nn as nn\n",
        "import torch.optim as optim\n",
        "from torch.utils.data import Subset, DataLoader\n",
        "from torch.backends import cudnn\n",
        "\n",
        "import torchvision\n",
        "from torchvision import transforms\n",
        "from torchvision.datasets import VisionDataset\n",
        "from torchvision.models import alexnet\n",
        "from torchvision.models import vgg16\n",
        "from torchvision.models import resnext50_32x4d\n",
        "\n",
        "from PIL import Image\n",
        "from tqdm import tqdm\n",
        "import time\n",
        "import numpy as np\n",
        "import pandas as pd\n",
        "import matplotlib.pyplot as plt\n",
        "import copy\n",
        "import operator"
      ],
      "execution_count": 3,
      "outputs": []
    },
    {
      "cell_type": "markdown",
      "metadata": {
        "id": "OIDLJuIXK_vh"
      },
      "source": [
        "**Set Arguments**"
      ]
    },
    {
      "cell_type": "code",
      "metadata": {
        "id": "d5PkYfqfK_SA"
      },
      "source": [
        "DEVICE = 'cuda' # 'cuda' or 'cpu'\n",
        "\n",
        "NUM_CLASSES = 101 # 101 + 1: There is an extra Background class that should be removed \n",
        "\n",
        "BATCH_SIZE = 64     # Higher batch sizes allows for larger learning rates. An empirical heuristic suggests that, when changing\n",
        "                     # the batch size, learning rate should change by the same factor to have comparable results\n",
        "\n",
        "LR = 1e-2            # The initial Learning Rate\n",
        "MOMENTUM = 0.9       # Hyperparameter for SGD, keep this at 0.9 when using SGD\n",
        "WEIGHT_DECAY = 5e-5  # Regularization, you can keep this at the default\n",
        "\n",
        "NUM_EPOCHS = 15      # Total number of training epochs (iterations over dataset)\n",
        "STEP_SIZE = 5       # How many epochs before decreasing learning rate (if using a step-down policy)\n",
        "GAMMA = 0.1          # Multiplicative factor for learning rate step-down\n",
        "\n",
        "LOG_FREQUENCY = 10\n",
        "\n",
        "SPLITTING_CHECK = False\n",
        "COMPUTE_MEANS = False\n",
        "IMAGE_VISUALIZATION = False\n",
        "TEN_CROP_TEST = True\n",
        "VISUALIZE_PREDICTIONS = False"
      ],
      "execution_count": 4,
      "outputs": []
    },
    {
      "cell_type": "markdown",
      "metadata": {
        "id": "9gwii0TBHvzh"
      },
      "source": [
        "**Define Data Preprocessing**"
      ]
    },
    {
      "cell_type": "code",
      "metadata": {
        "id": "QUDdw4j2H0Mc"
      },
      "source": [
        "# Define transforms for training phase\n",
        "train_transform = transforms.Compose([transforms.Resize(256),      # Resizes short size of the PIL image to 256\n",
        "                                      transforms.CenterCrop(224),  # Crops a central square patch of the image\n",
        "                                                                   # 224 because torchvision's AlexNet needs a 224x224 input!\n",
        "                                                                   # Remember this when applying different transformations, otherwise you get an error\n",
        "                                      #transforms.RandomResizedCrop(224),\n",
        "                                      #transforms.RandomHorizontalFlip(0.5),\n",
        "                                      #transforms.RandomGrayscale(0.5),\n",
        "                                      #transforms.RandomRotation((-90, 90)),\n",
        "                                      #transforms.RandomVerticalFlip(0.5),\n",
        "                                      transforms.ToTensor(), # Turn PIL Image to torch.Tensor\n",
        "                                      #transforms.Normalize((0.5, 0.5, 0.5), (0.5, 0.5, 0.5)) # Normalizes tensor with mean and standard deviation\n",
        "                                      transforms.Normalize(mean=[0.485, 0.456, 0.406], std=[0.229, 0.224, 0.225]) # Normalizes tensor with mean and std of ImageNet Database\n",
        "])\n",
        "# Define transforms for the evaluation phase\n",
        "eval_transform = transforms.Compose([transforms.Resize(256),\n",
        "                                      transforms.CenterCrop(224),\n",
        "                                      #transforms.TenCrop(224),\n",
        "                                      #transforms.Lambda(lambda crops: torch.stack([transforms.ToTensor()(crop) for crop in crops])),\n",
        "                                      transforms.ToTensor(),\n",
        "                                      #transforms.Normalize((0.5, 0.5, 0.5), (0.5, 0.5, 0.5)) \n",
        "                                      transforms.Normalize(mean=[0.485, 0.456, 0.406], std=[0.229, 0.224, 0.225])\n",
        "                                      #transforms.Lambda(lambda crops: torch.stack([\n",
        "                                      #  transforms.Normalize(mean=[0.485, 0.456, 0.406], std=[0.229, 0.224, 0.225])(crop) for crop in crops]))\n",
        "                                      \n",
        "])"
      ],
      "execution_count": 6,
      "outputs": []
    },
    {
      "cell_type": "markdown",
      "metadata": {
        "id": "GtqAp7nFPaao"
      },
      "source": [
        "**Caltech class**"
      ]
    },
    {
      "cell_type": "code",
      "metadata": {
        "id": "B38bwBsgPn1X",
        "outputId": "dc5c509c-a185-4db1-dd5b-daae6eaf4cff",
        "colab": {
          "base_uri": "https://localhost:8080/"
        }
      },
      "source": [
        "# Clone github repository with data\n",
        "\n",
        "if not os.path.isdir('./Caltech101'):\n",
        "  !git clone https://github.com/MachineLearning2020/Homework2-Caltech101.git\n",
        "  !mv 'Homework2-Caltech101' 'Caltech101'\n",
        "\n",
        "DATA_DIR = 'Caltech101/101_ObjectCategories'\n",
        "\n",
        "def pil_loader(path):\n",
        "    # open path as file to avoid ResourceWarning (https://github.com/python-pillow/Pillow/issues/835)\n",
        "    with open(path, 'rb') as f:\n",
        "        img = Image.open(f)\n",
        "        return img.convert('RGB')\n",
        "\n",
        "def has_file_allowed_extension(filename, extensions):\n",
        "    \"\"\"Checks if a file is an allowed extension.\"\"\"\n",
        "    return filename.lower().endswith(extensions)\n",
        "\n",
        "def is_image_file(filename):\n",
        "    \"\"\"Checks if a file is an allowed image extension.\"\"\"\n",
        "    \n",
        "    return has_file_allowed_extension(filename, IMG_EXTENSIONS)\n",
        "\n",
        "def make_dataset(directory, class_to_idx, split, extensions=None, is_valid_file=None):\n",
        "    instances = []\n",
        "    split = split + \".txt\"\n",
        "    caltech_dir, objCat_dir = directory.split(\"/\", 1)\n",
        "    path = os.path.join(caltech_dir, split)\n",
        "    path = os.path.expanduser(path)\n",
        "    both_none = extensions is None and is_valid_file is None\n",
        "    both_something = extensions is not None and is_valid_file is not None\n",
        "    if both_none or both_something:\n",
        "        raise ValueError(\"Both extensions and is_valid_file cannot be None or not None at the same time\")\n",
        "    if extensions is not None:\n",
        "        def is_valid_file(x):\n",
        "            return has_file_allowed_extension(x, extensions)\n",
        "    \n",
        "    file = open(path, \"r\")\n",
        "    for line in file:\n",
        "        target_class, pic = line.split(\"/\", 1)\n",
        "        pic = pic.strip()\n",
        "        if target_class == \"BACKGROUND_Google\":\n",
        "            continue\n",
        "        class_index = class_to_idx[target_class]\n",
        "        target_dir = os.path.join(directory, target_class)\n",
        "        if not os.path.isdir(target_dir):\n",
        "            continue\n",
        "        target_file = os.path.join(target_dir, pic)\n",
        "        target_file = os.path.expanduser(target_file)\n",
        "        if is_valid_file(target_file):\n",
        "            item = target_file, class_index\n",
        "            instances.append(item)    \n",
        "    \n",
        "    return instances\n",
        "\n",
        "class Caltech(VisionDataset):\n",
        "    def __init__(self, root, split='train', loader=pil_loader, extensions=None, transform=None, target_transform=None, is_valid_file=None):\n",
        "        super(Caltech, self).__init__(root, transform=transform, target_transform=target_transform)\n",
        "\n",
        "        self.split = split # This defines the split you are going to use\n",
        "                           # (split files are called 'train.txt' and 'test.txt')\n",
        "        '''\n",
        "        - Here you should implement the logic for reading the splits files and accessing elements\n",
        "        - If the RAM size allows it, it is faster to store all data in memory\n",
        "        - PyTorch Dataset classes use indexes to read elements\n",
        "        - You should provide a way for the __getitem__ method to access the image-label pair\n",
        "          through the index\n",
        "        - Labels should start from 0, so for Caltech you will have lables 0...100 (excluding the background class) \n",
        "        ''' \n",
        "        classes, class_to_idx = self._find_classes(self.root)\n",
        "        samples = make_dataset(self.root, class_to_idx, split, IMG_EXTENSIONS, is_valid_file)\n",
        "        if len(samples) == 0:\n",
        "            raise (RuntimeError(\"Found 0 files in subfolders of: \" + self.root + \"\\n\"\n",
        "                                \"Supported extensions are: \" + \",\".join(IMG_EXTENSIONS)))\n",
        "\n",
        "        self.loader = loader\n",
        "        self.classes = classes\n",
        "        self.class_to_idx = class_to_idx\n",
        "        self.samples = samples\n",
        "        self.targets = [s[1] for s in samples]\n",
        "\n",
        "    def _find_classes(self, dir):\n",
        "        \n",
        "        \"\"\"Finds the class folders in a dataset.\"\"\"\n",
        "        \n",
        "        classes = [d.name for d in os.scandir(dir) if d.is_dir()]\n",
        "        classes.sort()\n",
        "        classes.pop(0)\n",
        "        class_to_idx = {classes[i]: i for i in range(len(classes))}\n",
        "        return classes, class_to_idx\n",
        "\n",
        "    def __getitem__(self, index):\n",
        "        '''\n",
        "        __getitem__ should access an element through its index\n",
        "        Args:\n",
        "            index (int): Index\n",
        "\n",
        "        Returns:\n",
        "            tuple: (sample, target) where target is class_index of the target class.\n",
        "        '''\n",
        "\n",
        "        image, label = self.samples[index] # Provide a way to access image and label via index\n",
        "                                            # Image should be a PIL Image\n",
        "                                            # label can be int\n",
        "        sample = self.loader(image)\n",
        "        # Applies preprocessing when accessing the image\n",
        "        if self.transform is not None:\n",
        "            sample = self.transform(sample)\n",
        "        if self.target_transform is not None:\n",
        "            label = self.target_transform(target)\n",
        "\n",
        "        return sample, label\n",
        "\n",
        "    def __len__(self):\n",
        "        '''\n",
        "        The __len__ method returns the length of the dataset\n",
        "        It is mandatory, as this is used by several other components\n",
        "        '''\n",
        "        length = len(self.samples) # Provide a way to get the length (number of elements) of the dataset\n",
        "        return length\n",
        "\n",
        "IMG_EXTENSIONS = ('.jpg', '.jpeg', '.png', '.ppm', '.bmp', '.pgm', '.tif', '.tiff', '.webp')\n",
        "\n",
        "class ImageFolder(Caltech):\n",
        "\n",
        "    def __init__(self, root, transform=None, target_transform=None,\n",
        "                 loader=pil_loader, is_valid_file=None):\n",
        "        super(ImageFolder, self).__init__(root, loader, IMG_EXTENSIONS if is_valid_file is None else None,\n",
        "                                          transform=transform,\n",
        "                                          target_transform=target_transform,\n",
        "                                          is_valid_file=is_valid_file)\n",
        "        self.imgs = self.samples"
      ],
      "execution_count": 7,
      "outputs": [
        {
          "output_type": "stream",
          "text": [
            "Cloning into 'Homework2-Caltech101'...\n",
            "remote: Enumerating objects: 9256, done.\u001b[K\n",
            "remote: Total 9256 (delta 0), reused 0 (delta 0), pack-reused 9256\u001b[K\n",
            "Receiving objects: 100% (9256/9256), 129.48 MiB | 22.48 MiB/s, done.\n",
            "Resolving deltas: 100% (4/4), done.\n",
            "Checking out files: 100% (9149/9149), done.\n"
          ],
          "name": "stdout"
        }
      ]
    },
    {
      "cell_type": "markdown",
      "metadata": {
        "id": "2qYIHPzYLY7i"
      },
      "source": [
        "**Prepare Dataset**"
      ]
    },
    {
      "cell_type": "code",
      "metadata": {
        "id": "QfVq_uDHLbsR",
        "outputId": "e4a3760a-6480-4a86-de42-f7a6d9d89ab0",
        "colab": {
          "base_uri": "https://localhost:8080/"
        }
      },
      "source": [
        "from sklearn.model_selection import StratifiedShuffleSplit\n",
        "\n",
        "# Prepare Pytorch train/test Datasets\n",
        "train_dataset = Caltech(DATA_DIR, split='train', transform=train_transform)\n",
        "test_dataset = Caltech(DATA_DIR, split='test', transform=eval_transform)\n",
        "\n",
        "class_to_idx = train_dataset.class_to_idx\n",
        "classes = train_dataset.classes\n",
        "\n",
        "X = []\n",
        "y = []\n",
        "\n",
        "for image, label in train_dataset:\n",
        "    X.append(image)\n",
        "    y.append(label)\n",
        "\n",
        "sss = StratifiedShuffleSplit(n_splits=1, train_size=0.5, random_state=0)  \n",
        "\n",
        "for train_index, val_index in sss.split(X, y):\n",
        "    train_indexes = train_index # split the indices for your train split\n",
        "    val_indexes = val_index # split the indices for your val split\n",
        "\n",
        "val_dataset = Subset(train_dataset, val_indexes)\n",
        "train_dataset = Subset(train_dataset, train_indexes)\n",
        "\n",
        "# Check dataset sizes\n",
        "print('Train Dataset: {}'.format(len(train_dataset)))\n",
        "print('Valid Dataset: {}'.format(len(val_dataset)))\n",
        "print('Test Dataset: {}'.format(len(test_dataset)))\n",
        "print('Dataset size: {}'.format(len(train_dataset) + len(val_dataset) + len(test_dataset)))"
      ],
      "execution_count": 8,
      "outputs": [
        {
          "output_type": "stream",
          "text": [
            "Train Dataset: 2892\n",
            "Valid Dataset: 2892\n",
            "Test Dataset: 2893\n",
            "Dataset size: 8677\n"
          ],
          "name": "stdout"
        }
      ]
    },
    {
      "cell_type": "markdown",
      "metadata": {
        "id": "LtaCWYWc92GH"
      },
      "source": [
        "**Images distribution among classes**"
      ]
    },
    {
      "cell_type": "code",
      "metadata": {
        "id": "Sa9CMyjq71A8",
        "outputId": "c78330f4-9219-4a04-c4fd-22749f327568",
        "colab": {
          "base_uri": "https://localhost:8080/",
          "height": 1000
        }
      },
      "source": [
        "count_train_items = {}\n",
        "count_val_items = {}\n",
        "count_test_items = {}\n",
        "count_total_items = {}\n",
        "\n",
        "for c in classes:\n",
        "  count_train_items[c] = 0\n",
        "  count_val_items[c] = 0\n",
        "  count_test_items[c] = 0\n",
        "\n",
        "for image, label in train_dataset:\n",
        "  i = classes[label]\n",
        "  count_train_items[i] += 1\n",
        "\n",
        "for image, label in val_dataset:\n",
        "  i = classes[label]\n",
        "  count_val_items[i] += 1\n",
        "\n",
        "for image, label in test_dataset:\n",
        "  i = classes[label]\n",
        "  count_test_items[i] += 1\n",
        "\n",
        "for c in classes:\n",
        "  count_total_items[c] = count_train_items[c] + count_val_items[c] \n",
        "\n",
        "sorted_train_items = dict(sorted(count_train_items.items(), key=operator.itemgetter(1), reverse=True))\n",
        "sorted_val_items = dict(sorted(count_val_items.items(), key=operator.itemgetter(1), reverse=True))\n",
        "sorted_test_items = dict(sorted(count_test_items.items(), key=operator.itemgetter(1), reverse=True))\n",
        "sorted_total_items = dict(sorted(count_total_items.items(), key=operator.itemgetter(1), reverse=True))\n",
        "\n",
        "print(\"Top 10 classes in train split:\")\n",
        "print(list(sorted_train_items.items())[:10])\n",
        "print(\"\\n\")\n",
        "\n",
        "print(\"Top 10 classes in validation split:\")\n",
        "print(list(sorted_val_items.items())[:10])\n",
        "print(\"\\n\")\n",
        "\n",
        "print(\"Top 10 classes in test split:\")\n",
        "print(list(sorted_test_items.items())[:10])\n",
        "print(\"\\n\")\n",
        "\n",
        "index = np.arange(len(classes))\n",
        "plt.figure(figsize=(20, 10))\n",
        "p1 = plt.bar(index, count_train_items.values(), color='royalblue')\n",
        "p2 = plt.bar(index, count_val_items.values(), bottom=list(count_train_items.values()), color='limegreen')\n",
        "p3 = plt.bar(index, count_test_items.values(), bottom=list(count_total_items.values()), color='orangered')\n",
        "plt.xlabel('Category', fontsize=20)\n",
        "plt.ylabel('Count', fontsize=20)\n",
        "#plt.title('Number of image by Category in Caltech-101', fontsize=30)\n",
        "plt.xticks(index, classes, fontsize=8, rotation=80)\n",
        "plt.legend((p1[0], p2[0], p3[0]), ('train', 'validation', 'test'), prop={'size': 20})\n",
        "plt.show()\n",
        "\n",
        "for c in classes:\n",
        "  count_total_items[c] += count_test_items[c]\n",
        "\n",
        "sorted_total_items_final = dict(sorted(count_total_items.items(), key=operator.itemgetter(1), reverse=True))\n",
        "\n",
        "print(\"Top 10 classes in Caltech-101 dataset:\")\n",
        "print(list(sorted_total_items_final.items())[:10])\n",
        "print(\"\\n\")\n",
        "\n",
        "print(\"Bottom 5 classes in Caltech-101 dataset:\")\n",
        "print(list(sorted_total_items_final.items())[96:101])\n",
        "print(\"\\n\")\n",
        "\n",
        "print(\"Bottom 5 classes in train split:\")\n",
        "print(list(sorted_train_items.items())[96:101])\n",
        "print(\"\\n\")\n",
        "\n",
        "print(\"Bottom 5 classes in validation split:\")\n",
        "print(list(sorted_val_items.items())[96:101])\n",
        "print(\"\\n\")\n",
        "\n",
        "print(\"Bottom 5 classes in test split:\")\n",
        "print(list(sorted_test_items.items())[96:101])\n",
        "print(\"\\n\")"
      ],
      "execution_count": 9,
      "outputs": [
        {
          "output_type": "stream",
          "text": [
            "Top 10 classes in train split:\n",
            "[('airplanes', 267), ('Motorbikes', 266), ('Faces', 145), ('Faces_easy', 145), ('watch', 79), ('Leopards', 66), ('bonsai', 42), ('car_side', 41), ('ketch', 38), ('chandelier', 36)]\n",
            "\n",
            "\n",
            "Top 10 classes in validation split:\n",
            "[('airplanes', 267), ('Motorbikes', 266), ('Faces', 145), ('Faces_easy', 145), ('watch', 80), ('Leopards', 67), ('bonsai', 43), ('car_side', 41), ('ketch', 38), ('chandelier', 36)]\n",
            "\n",
            "\n",
            "Top 10 classes in test split:\n",
            "[('Motorbikes', 266), ('airplanes', 266), ('Faces', 145), ('Faces_easy', 145), ('watch', 80), ('Leopards', 67), ('bonsai', 43), ('car_side', 41), ('ketch', 38), ('chandelier', 35)]\n",
            "\n",
            "\n"
          ],
          "name": "stdout"
        },
        {
          "output_type": "display_data",
          "data": {
            "image/png": "[encoded data removed]",
            "text/plain": [
              "<Figure size 1440x720 with 1 Axes>"
            ]
          },
          "metadata": {
            "tags": [],
            "needs_background": "light"
          }
        },
        {
          "output_type": "stream",
          "text": [
            "Top 10 classes in Caltech-101 dataset:\n",
            "[('airplanes', 800), ('Motorbikes', 798), ('Faces', 435), ('Faces_easy', 435), ('watch', 239), ('Leopards', 200), ('bonsai', 128), ('car_side', 123), ('ketch', 114), ('chandelier', 107)]\n",
            "\n",
            "\n",
            "Bottom 5 classes in Caltech-101 dataset:\n",
            "[('platypus', 34), ('wild_cat', 34), ('binocular', 33), ('metronome', 32), ('inline_skate', 31)]\n",
            "\n",
            "\n",
            "Bottom 5 classes in train split:\n",
            "[('binocular', 11), ('metronome', 11), ('platypus', 11), ('strawberry', 11), ('inline_skate', 10)]\n",
            "\n",
            "\n",
            "Bottom 5 classes in validation split:\n",
            "[('inline_skate', 11), ('platypus', 11), ('snoopy', 11), ('wild_cat', 11), ('metronome', 10)]\n",
            "\n",
            "\n",
            "Bottom 5 classes in test split:\n",
            "[('gerenuk', 11), ('metronome', 11), ('octopus', 11), ('wild_cat', 11), ('inline_skate', 10)]\n",
            "\n",
            "\n"
          ],
          "name": "stdout"
        }
      ]
    },
    {
      "cell_type": "markdown",
      "metadata": {
        "id": "9KMgyRGdNLnN"
      },
      "source": [
        "**Test** **Splitting** **Check**"
      ]
    },
    {
      "cell_type": "code",
      "metadata": {
        "id": "lff8aD6cr-6u"
      },
      "source": [
        "# Check if classes are distributed equally between training and validation set\n",
        "\n",
        "if SPLITTING_CHECK:\n",
        "\n",
        "  labels = []\n",
        "  labels_val = []\n",
        "  images = []\n",
        "  images_val = []\n",
        "\n",
        "  for image, label in train_dataset:\n",
        "    labels.append(label)\n",
        "    images.append(image)\n",
        "\n",
        "  for image_val, label_val in val_dataset:\n",
        "    labels_val.append(label_val)\n",
        "    images_val.append(image_val)\n",
        "\n",
        "  l = pd.Series(labels)\n",
        "  l_val = pd.Series(labels_val)\n",
        "  print(l.value_counts(sort=False).head())\n",
        "  print(l_val.value_counts(sort=False).head())\n"
      ],
      "execution_count": 11,
      "outputs": []
    },
    {
      "cell_type": "markdown",
      "metadata": {
        "id": "YzrClySf8orZ"
      },
      "source": [
        "**Compute means**"
      ]
    },
    {
      "cell_type": "code",
      "metadata": {
        "id": "_-7bOIDgfT_u"
      },
      "source": [
        "# Algorithm to compute effective means and standard deviation of Caltech 101 images\n",
        "# It is not used\n",
        "\n",
        "if COMPUTE_MEANS:\n",
        "\n",
        "  means_1 = []\n",
        "  means_2 = []\n",
        "  means_3 = []\n",
        "  stds_1 = []\n",
        "  stds_2 = []\n",
        "  stds_3 = []\n",
        "\n",
        "  for img, lab in train_dataset:      # For test dataset Normalization iter on train_dataset\n",
        "      means_1.append(torch.mean(img[0]))\n",
        "      means_2.append(torch.mean(img[1]))\n",
        "      means_3.append(torch.mean(img[2]))\n",
        "      stds_1.append(img[0])\n",
        "      stds_2.append(img[1])\n",
        "      stds_3.append(img[2])\n",
        "\n",
        "  stds_1 = torch.cat((stds_1), 0)\n",
        "  stds_2 = torch.cat((stds_2), 0)\n",
        "  stds_3 = torch.cat((stds_3), 0)\n",
        "  mean_1 = torch.mean(torch.tensor(means_1))\n",
        "  mean_2 = torch.mean(torch.tensor(means_2))\n",
        "  mean_3 = torch.mean(torch.tensor(means_3))\n",
        "  std_1 = torch.std(stds_1)\n",
        "  std_2 = torch.std(stds_2)\n",
        "  std_3 = torch.std(stds_3)\n",
        "\n",
        "  print(\"Means = [{:.4f}, {:.4f}, {:.4f}]\".format(mean_1.item(), mean_2.item(), mean_3.item()))\n",
        "  print(\"Stds = [{:.4f}, {:.4f}, {:.4f}]\".format(std_1.item(), std_2.item(), std_3.item()))"
      ],
      "execution_count": 12,
      "outputs": []
    },
    {
      "cell_type": "markdown",
      "metadata": {
        "id": "kq7o1Oyl0PdL"
      },
      "source": [
        "**Visualize a few images**"
      ]
    },
    {
      "cell_type": "code",
      "metadata": {
        "id": "gn5kMCmk0VCD"
      },
      "source": [
        "# It prints one image per class from training set\n",
        "\n",
        "if IMAGE_VISUALIZATION:\n",
        "\n",
        "  def imshow(inp, title=None):\n",
        "      \"\"\"Imshow for Tensor.\"\"\"\n",
        "      inp = inp.numpy().transpose((1, 2, 0))\n",
        "      #mean = np.array([0.485, 0.456, 0.406]) # If transfer learning is used, apply ImageNet normalization\n",
        "      #std = np.array([0.229, 0.224, 0.225])\n",
        "      mean = np.array([0.5, 0.5, 0.5])\n",
        "      std = np.array([0.5, 0.5, 0.5])\n",
        "      inp = std * inp + mean\n",
        "      inp = np.clip(inp, 0, 1)\n",
        "      plt.imshow(inp)\n",
        "      if title is not None:\n",
        "          plt.title(title)\n",
        "      plt.pause(0.001)  # pause a bit so that plots are updated\n",
        "\n",
        "  visited_class = set()\n",
        "  # Get a batch of training data\n",
        "  for inputs, cl in train_dataset:\n",
        "    if cl not in visited_class:\n",
        "      # Make a grid from batch\n",
        "      out = torchvision.utils.make_grid(inputs)\n",
        "      imshow(out, title=classes[cl])\n",
        "      visited_class.add(cl)\n",
        "\n"
      ],
      "execution_count": 13,
      "outputs": []
    },
    {
      "cell_type": "markdown",
      "metadata": {
        "id": "FYEDQ7Z21ldN"
      },
      "source": [
        "**Prepare Dataloaders**"
      ]
    },
    {
      "cell_type": "code",
      "metadata": {
        "id": "VriRw8SI1nle"
      },
      "source": [
        "# Dataloaders iterate over pytorch datasets and transparently provide useful functions (e.g. parallelization and shuffling)\n",
        "train_dataloader = DataLoader(train_dataset, batch_size=BATCH_SIZE, shuffle=True, num_workers=4, drop_last=True)\n",
        "val_dataloader = DataLoader(val_dataset, batch_size=BATCH_SIZE, shuffle=False, num_workers=4)\n",
        "\n",
        "test_dataloader = DataLoader(test_dataset, batch_size=BATCH_SIZE, shuffle=False, num_workers=4) #, drop_last=True)\n"
      ],
      "execution_count": 14,
      "outputs": []
    },
    {
      "cell_type": "markdown",
      "metadata": {
        "id": "gbZ1t5Qs2z4j"
      },
      "source": [
        "**Prepare Network**"
      ]
    },
    {
      "cell_type": "code",
      "metadata": {
        "id": "exHUjtXa22DN",
        "outputId": "eafc9a03-bce4-4cf1-95eb-df681c8eb859",
        "colab": {
          "base_uri": "https://localhost:8080/",
          "height": 85,
          "referenced_widgets": [
            "2652cd6be4894b409e13258c2eb0fc0d",
            "bcd73c54cf56471d8121258cabcc30b1",
            "809c8859554a4a43bffe40889b96686c",
            "e4c1169f38b94db89b24ae0997ffe91e",
            "88b31a33432f4d119d200bfd71361d49",
            "75b20f7eac8f4acea8eaf704c7e5cffb",
            "47bf1d27efd24686b2b07a9ad7a58a93",
            "542f76c6e6dd45c2ae979b6f4ef36b1b"
          ]
        }
      },
      "source": [
        "#net = alexnet() # Loading AlexNet model\n",
        "net = alexnet(pretrained=True) #for better performances (AlexNet pre-trained on ImageNet dataset)\n",
        "#net = resnext50_32x4d(pretrained=True)\n",
        "#net = vgg16(pretrained=True)\n",
        "\n",
        "# Freeze model weights\n",
        "#for param in net.parameters():\n",
        "#  param.requires_grad = False\n",
        "\n",
        "# AlexNet has 1000 output neurons, corresponding to the 1000 ImageNet's classes\n",
        "# We need 101 outputs for Caltech-101\n",
        "net.classifier[6] = nn.Linear(4096, NUM_CLASSES) # nn.Linear in pytorch is a fully connected layer\n",
        "                                                 # The convolutional layer is nn.Conv2d\n",
        "\n",
        "# We just changed the last layer of AlexNet with a new fully connected layer with 101 outputs\n",
        "# It is strongly suggested to study torchvision.models.alexnet source code\n",
        "\n",
        "# Change fully-connected layer on ResNeXt-50\n",
        "\n",
        "#num_ftrs = net.fc.in_features                                              \n",
        "#net.fc = nn.Linear(num_ftrs, NUM_CLASSES)\n",
        "\n",
        "# Change last layer of VGG\n",
        "\n",
        "#num_ftrs = net.classifier[6].in_features\n",
        "#net.classifier[6] = nn.Linear(num_ftrs, NUM_CLASSES)\n"
      ],
      "execution_count": 15,
      "outputs": [
        {
          "output_type": "stream",
          "text": [
            "Downloading: \"https://download.pytorch.org/models/alexnet-owt-4df8aa71.pth\" to /root/.cache/torch/hub/checkpoints/alexnet-owt-4df8aa71.pth\n"
          ],
          "name": "stderr"
        },
        {
          "output_type": "display_data",
          "data": {
            "application/vnd.jupyter.widget-view+json": {
              "model_id": "2652cd6be4894b409e13258c2eb0fc0d",
              "version_minor": 0,
              "version_major": 2
            },
            "text/plain": [
              "HBox(children=(FloatProgress(value=0.0, max=244418560.0), HTML(value='')))"
            ]
          },
          "metadata": {
            "tags": []
          }
        },
        {
          "output_type": "stream",
          "text": [
            "\n"
          ],
          "name": "stdout"
        }
      ]
    },
    {
      "cell_type": "markdown",
      "metadata": {
        "id": "KEyL3H_R4qCf"
      },
      "source": [
        "**Prepare Training**"
      ]
    },
    {
      "cell_type": "code",
      "metadata": {
        "id": "9sjq00G94tSc"
      },
      "source": [
        "# Define loss function\n",
        "criterion = nn.CrossEntropyLoss() # for classification, we use Cross Entropy\n",
        "\n",
        "# Choose parameters to optimize\n",
        "# To access a different set of parameters, you have to access submodules of AlexNet\n",
        "# (nn.Module objects, like AlexNet, implement the Composite Pattern)\n",
        "# e.g.: parameters of the fully connected layers: net.classifier.parameters()\n",
        "# e.g.: parameters of the convolutional layers: look at alexnet's source code ;) \n",
        "parameters_to_optimize = net.parameters() # In this case we optimize over all the parameters of AlexNet\n",
        "#parameters_to_optimize = net.features.parameters() # In this case we optimize over the convolutional layer the parameters of AlexNet\n",
        "#parameters_to_optimize = net.classifier.parameters() # In this case we optimize over the FC layer parameters of AlexNet\n",
        "\n",
        "# Define optimizer\n",
        "# An optimizer updates the weights based on loss\n",
        "# We use SGD with momentum\n",
        "optimizer = optim.SGD(parameters_to_optimize, lr=LR, momentum=MOMENTUM, weight_decay=WEIGHT_DECAY)\n",
        "#optimizer = optim.SGD(parameters_to_optimize, lr=LR, momentum=MOMENTUM, weight_decay=WEIGHT_DECAY, nesterov=True)\n",
        "#optimizer = optim.Adam(parameters_to_optimize, lr=LR, weight_decay=WEIGHT_DECAY)\n",
        "\n",
        "# Define scheduler\n",
        "# A scheduler dynamically changes learning rate\n",
        "# The most common schedule is the step(-down), which multiplies learning rate by gamma every STEP_SIZE epochs\n",
        "scheduler = optim.lr_scheduler.StepLR(optimizer, step_size=STEP_SIZE, gamma=GAMMA)"
      ],
      "execution_count": 16,
      "outputs": []
    },
    {
      "cell_type": "markdown",
      "metadata": {
        "id": "91z9JUCqGXgL"
      },
      "source": [
        "**Visualization** **Function**"
      ]
    },
    {
      "cell_type": "code",
      "metadata": {
        "id": "GITTcKXJGf3y"
      },
      "source": [
        "# Functions to plot training results \n",
        "\n",
        "import numpy as np\n",
        "import matplotlib.pyplot as plt\n",
        "\n",
        "def plot_loss(loss_train, loss_val):\n",
        "  epochs = range(NUM_EPOCHS)\n",
        "  loss_train = np.array(loss_train)\n",
        "  loss_val = np.array(loss_val)\n",
        "  plt.plot(epochs, loss_train, linestyle='-', color='b', label='Training loss')\n",
        "  plt.plot(epochs, loss_val, linestyle='-', color='darkorange',label='Validation loss')\n",
        "  plt.title('Training and Validation loss', fontsize=15, fontweight='bold')\n",
        "  plt.xlabel('Epochs', fontsize=10, labelpad=7)\n",
        "  plt.ylabel('Loss', fontsize=10, labelpad=10)\n",
        "  plt.legend()\n",
        "  plt.grid()\n",
        "  plt.show()\n",
        "\n",
        "def plot_accuracy(acc_train, acc_val):\n",
        "  epochs = range(NUM_EPOCHS)\n",
        "  acc_train = np.array(acc_train)\n",
        "  acc_val = np.array(acc_val)\n",
        "  plt.plot(epochs, acc_train, linestyle='-', color='b', label='Training accuracy')\n",
        "  plt.plot(epochs, acc_val, linestyle='-', color='darkorange',label='Validation accuracy')\n",
        "  plt.title('Training and Validation accuracy', fontsize=15, fontweight='bold')\n",
        "  plt.xlabel('Epochs', fontsize=10, labelpad=7)\n",
        "  plt.ylabel('Accuracy', fontsize=10, labelpad=10)\n",
        "  plt.legend()\n",
        "  plt.grid()\n",
        "  plt.show()"
      ],
      "execution_count": 17,
      "outputs": []
    },
    {
      "cell_type": "markdown",
      "metadata": {
        "id": "AxYUli9d9uYQ"
      },
      "source": [
        "**Train** **and Validation**"
      ]
    },
    {
      "cell_type": "code",
      "metadata": {
        "id": "ZcoQ5fD49yT_",
        "outputId": "378647f9-61fb-459f-8873-e07ed2759fdf",
        "colab": {
          "base_uri": "https://localhost:8080/"
        }
      },
      "source": [
        "since = time.time()\n",
        "\n",
        "print(\"Current Hyperparameters:\")\n",
        "print(f\"Epochs = {NUM_EPOCHS}\")\n",
        "print(f\"  Scheduler:\")\n",
        "print(f\"  - Step Size = {STEP_SIZE}\")\n",
        "print(f\"  - Gamma = {GAMMA}\")\n",
        "print(f\"Optimizer: {optimizer}\")\n",
        "print(f\"Device: {DEVICE}\")\n",
        "print()\n",
        "\n",
        "train_loss = []\n",
        "val_loss = []\n",
        "train_acc = []\n",
        "val_acc = []\n",
        "\n",
        "best_net = copy.deepcopy(net.state_dict())\n",
        "best_val_acc = 0.0\n",
        "\n",
        "# By default, everything is loaded to cpu\n",
        "net = net.to(DEVICE) # this will bring the network to GPU if DEVICE is cuda\n",
        "\n",
        "cudnn.benchmark # Calling this optimizes runtime\n",
        "\n",
        "current_step = 0\n",
        "# Start iterating over the epochs\n",
        "for epoch in range(NUM_EPOCHS):\n",
        "  print('Starting epoch {}/{}, LR = {}'.format(epoch+1, NUM_EPOCHS, scheduler.get_lr()))\n",
        "\n",
        "  net.train() # Sets module in training mode\n",
        "\n",
        "  running_loss = 0.0\n",
        "  running_corrects = 0\n",
        "\n",
        "  # Iterate over the dataset\n",
        "  for images, labels in train_dataloader:\n",
        "    # Bring data over the device of choice\n",
        "    images = images.to(DEVICE)\n",
        "    labels = labels.to(DEVICE)\n",
        "\n",
        "    # PyTorch, by default, accumulates gradients after each backward pass\n",
        "    # We need to manually set the gradients to zero before starting a new iteration\n",
        "    optimizer.zero_grad() # Zero-ing the gradients\n",
        "\n",
        "    with torch.set_grad_enabled(True):\n",
        "\n",
        "      # Forward pass to the network\n",
        "      outputs = net(images)\n",
        "\n",
        "      _, preds = torch.max(outputs, 1)\n",
        "\n",
        "      # Compute loss based on output and ground truth\n",
        "      loss = criterion(outputs, labels)\n",
        "\n",
        "      # Log loss\n",
        "      if current_step % LOG_FREQUENCY == 0:\n",
        "        print('Step {}, Loss {}'.format(current_step, loss.item()))\n",
        "\n",
        "      # Compute gradients for each layer and update weights\n",
        "      loss.backward()  # backward pass: computes gradients\n",
        "      optimizer.step() # update weights based on accumulated gradients\n",
        "      \n",
        "    current_step += 1\n",
        "\n",
        "    # statistics\n",
        "    running_loss += loss.item() * images.size(0)\n",
        "    running_corrects += torch.sum(preds == labels.data).data.item() \n",
        "  \n",
        "  epoch_loss = running_loss / float(len(train_dataloader)*BATCH_SIZE)\n",
        "  epoch_acc = running_corrects / float(len(train_dataloader)*BATCH_SIZE)\n",
        "\n",
        "  train_loss.append(epoch_loss) # loss computed as the average on mini-batches\n",
        "  #train_loss.append(loss) # loss computed only on the last batch\n",
        "  train_acc.append(epoch_acc)\n",
        "\n",
        "  print('Train -> Loss: {:.4f} Acc: {:.4f}'.format(epoch_loss, epoch_acc))\n",
        "\n",
        "  ### Start Validation phase\n",
        "\n",
        "  net = net.to(DEVICE) # this will bring the network to GPU if DEVICE is cuda\n",
        "  net.train(False) # Set Network to evaluation mode\n",
        "\n",
        "  running_val_loss = 0.0\n",
        "  running_val_corrects = 0\n",
        "\n",
        "  for images, labels in val_dataloader:\n",
        "    images = images.to(DEVICE)\n",
        "    labels = labels.to(DEVICE)\n",
        "\n",
        "    # zero the parameter gradients\n",
        "    optimizer.zero_grad()\n",
        "\n",
        "    with torch.set_grad_enabled(False):\n",
        "\n",
        "      # Forward Pass\n",
        "      outputs = net(images)\n",
        "\n",
        "      # Get predictions\n",
        "      _, preds = torch.max(outputs, 1)\n",
        "\n",
        "      # Update Corrects\n",
        "      running_corrects += torch.sum(preds == labels.data).data.item()\n",
        "\n",
        "      # Calculate Loss\n",
        "      loss = criterion(outputs.data, labels)\n",
        "\n",
        "    # Update Corrects and Loss\n",
        "    running_val_loss += loss.item() * images.size(0)\n",
        "    running_val_corrects += torch.sum(preds == labels.data)\n",
        "\n",
        "  epoch_val_loss = running_val_loss / float(len(val_dataset))\n",
        "  epoch_val_acc = running_val_corrects / float(len(val_dataset))\n",
        "\n",
        "  val_loss.append(epoch_val_loss)\n",
        "  val_acc.append(epoch_val_acc)\n",
        "\n",
        "  print('Validation -> Loss: {:.4f} Acc: {:.4f}'.format(epoch_val_loss, epoch_val_acc))\n",
        "\n",
        "  # deep copy the model\n",
        "  if epoch_val_acc > best_val_acc:\n",
        "    best_val_acc = epoch_val_acc\n",
        "    #best_net = copy.deepcopy(net.state_dict())\n",
        "\n",
        "  # Calculate Accuracy\n",
        "  accuracy = running_val_corrects / float(len(val_dataset))\n",
        "\n",
        "  print('Validation Accuracy: {}'.format(accuracy))\n",
        "\n",
        "  # Step the scheduler\n",
        "  scheduler.step()\n",
        "\n",
        "  print()\n",
        "\n",
        "time_elapsed = time.time() - since\n",
        "print('Training complete in {:.0f}m {:.0f}s'.format(time_elapsed // 60, time_elapsed % 60))\n",
        "print('Best val Acc: {:4f}'.format(best_val_acc))\n",
        "\n",
        "# load best model weights\n",
        "\n",
        "#net.load_state_dict(best_net)"
      ],
      "execution_count": 18,
      "outputs": [
        {
          "output_type": "stream",
          "text": [
            "Current Hyperparameters:\n",
            "Epochs = 15\n",
            "  Scheduler:\n",
            "  - Step Size = 5\n",
            "  - Gamma = 0.1\n",
            "Optimizer: SGD (\n",
            "Parameter Group 0\n",
            "    dampening: 0\n",
            "    initial_lr: 0.01\n",
            "    lr: 0.01\n",
            "    momentum: 0.9\n",
            "    nesterov: False\n",
            "    weight_decay: 5e-05\n",
            ")\n",
            "Device: cuda\n",
            "\n",
            "Starting epoch 1/15, LR = [0.01]\n"
          ],
          "name": "stdout"
        },
        {
          "output_type": "stream",
          "text": [
            "/usr/local/lib/python3.6/dist-packages/torch/optim/lr_scheduler.py:370: UserWarning: To get the last learning rate computed by the scheduler, please use `get_last_lr()`.\n",
            "  \"please use `get_last_lr()`.\", UserWarning)\n"
          ],
          "name": "stderr"
        },
        {
          "output_type": "stream",
          "text": [
            "Step 0, Loss 5.013311386108398\n",
            "Step 10, Loss 2.264331340789795\n",
            "Step 20, Loss 1.5707478523254395\n",
            "Step 30, Loss 1.1919217109680176\n",
            "Step 40, Loss 1.2554889917373657\n",
            "Train -> Loss: 2.1023 Acc: 0.5240\n",
            "Validation -> Loss: 1.2797 Acc: 0.6763\n",
            "Validation Accuracy: 0.6763485670089722\n",
            "\n",
            "Starting epoch 2/15, LR = [0.01]\n",
            "Step 50, Loss 0.9656305313110352\n",
            "Step 60, Loss 0.7344257235527039\n",
            "Step 70, Loss 0.9557844400405884\n",
            "Step 80, Loss 0.8427998423576355\n",
            "Train -> Loss: 0.9570 Acc: 0.7493\n",
            "Validation -> Loss: 1.0859 Acc: 0.7279\n",
            "Validation Accuracy: 0.727869987487793\n",
            "\n",
            "Starting epoch 3/15, LR = [0.01]\n",
            "Step 90, Loss 0.37054842710494995\n",
            "Step 100, Loss 0.42806169390678406\n",
            "Step 110, Loss 0.5502152442932129\n",
            "Step 120, Loss 0.8133133053779602\n",
            "Step 130, Loss 0.9872580766677856\n",
            "Train -> Loss: 0.5968 Acc: 0.8389\n",
            "Validation -> Loss: 1.0413 Acc: 0.7424\n",
            "Validation Accuracy: 0.7423928380012512\n",
            "\n",
            "Starting epoch 4/15, LR = [0.01]\n",
            "Step 140, Loss 0.3339095115661621\n",
            "Step 150, Loss 0.30396568775177\n",
            "Step 160, Loss 0.7307565212249756\n",
            "Step 170, Loss 0.6622722148895264\n",
            "Train -> Loss: 0.4428 Acc: 0.8743\n",
            "Validation -> Loss: 1.1172 Acc: 0.7452\n",
            "Validation Accuracy: 0.7451590895652771\n",
            "\n",
            "Starting epoch 5/15, LR = [0.01]\n",
            "Step 180, Loss 0.2516186237335205\n",
            "Step 190, Loss 0.29265284538269043\n",
            "Step 200, Loss 0.32805225253105164\n",
            "Step 210, Loss 0.40541189908981323\n",
            "Step 220, Loss 0.28993549942970276\n",
            "Train -> Loss: 0.3009 Acc: 0.9125\n",
            "Validation -> Loss: 1.0212 Acc: 0.7552\n",
            "Validation Accuracy: 0.7551867365837097\n",
            "\n",
            "Starting epoch 6/15, LR = [0.0001]\n",
            "Step 230, Loss 0.13250254094600677\n",
            "Step 240, Loss 0.14096923172473907\n",
            "Step 250, Loss 0.046431127935647964\n",
            "Step 260, Loss 0.10471232235431671\n",
            "Train -> Loss: 0.1078 Acc: 0.9681\n",
            "Validation -> Loss: 0.8839 Acc: 0.7849\n",
            "Validation Accuracy: 0.7849239706993103\n",
            "\n",
            "Starting epoch 7/15, LR = [0.001]\n",
            "Step 270, Loss 0.03425222262740135\n",
            "Step 280, Loss 0.04574515298008919\n",
            "Step 290, Loss 0.042107563465833664\n",
            "Step 300, Loss 0.012886151671409607\n",
            "Step 310, Loss 0.033038247376680374\n",
            "Train -> Loss: 0.0476 Acc: 0.9861\n",
            "Validation -> Loss: 0.8487 Acc: 0.7974\n",
            "Validation Accuracy: 0.7973721027374268\n",
            "\n",
            "Starting epoch 8/15, LR = [0.001]\n",
            "Step 320, Loss 0.01714101992547512\n",
            "Step 330, Loss 0.00557222543284297\n",
            "Step 340, Loss 0.019566472619771957\n",
            "Step 350, Loss 0.01647861674427986\n",
            "Train -> Loss: 0.0270 Acc: 0.9938\n",
            "Validation -> Loss: 0.8694 Acc: 0.7988\n",
            "Validation Accuracy: 0.7987552285194397\n",
            "\n",
            "Starting epoch 9/15, LR = [0.001]\n",
            "Step 360, Loss 0.010092775337398052\n",
            "Step 370, Loss 0.0350399874150753\n",
            "Step 380, Loss 0.017441963776946068\n",
            "Step 390, Loss 0.05264687165617943\n",
            "Step 400, Loss 0.024777207523584366\n",
            "Train -> Loss: 0.0199 Acc: 0.9951\n",
            "Validation -> Loss: 0.8663 Acc: 0.8039\n",
            "Validation Accuracy: 0.8039419054985046\n",
            "\n",
            "Starting epoch 10/15, LR = [0.001]\n",
            "Step 410, Loss 0.005370870232582092\n",
            "Step 420, Loss 0.002563748974353075\n",
            "Step 430, Loss 0.004619445651769638\n",
            "Step 440, Loss 0.06420193612575531\n",
            "Train -> Loss: 0.0149 Acc: 0.9969\n",
            "Validation -> Loss: 0.8611 Acc: 0.8053\n",
            "Validation Accuracy: 0.8053250312805176\n",
            "\n",
            "Starting epoch 11/15, LR = [1e-05]\n",
            "Step 450, Loss 0.0026430340949445963\n",
            "Step 460, Loss 0.004992089234292507\n",
            "Step 470, Loss 0.018519995734095573\n",
            "Step 480, Loss 0.01695248857140541\n",
            "Step 490, Loss 0.010348311625421047\n",
            "Train -> Loss: 0.0137 Acc: 0.9965\n",
            "Validation -> Loss: 0.8605 Acc: 0.8060\n",
            "Validation Accuracy: 0.8060166239738464\n",
            "\n",
            "Starting epoch 12/15, LR = [0.0001]\n",
            "Step 500, Loss 0.01306559331715107\n",
            "Step 510, Loss 0.00422105984762311\n",
            "Step 520, Loss 0.004965576343238354\n",
            "Step 530, Loss 0.0024654497392475605\n",
            "Train -> Loss: 0.0126 Acc: 0.9976\n",
            "Validation -> Loss: 0.8587 Acc: 0.8067\n",
            "Validation Accuracy: 0.8067081570625305\n",
            "\n",
            "Starting epoch 13/15, LR = [0.0001]\n",
            "Step 540, Loss 0.015076005831360817\n",
            "Step 550, Loss 0.030081065371632576\n",
            "Step 560, Loss 0.0322190597653389\n",
            "Step 570, Loss 0.00789547711610794\n",
            "Step 580, Loss 0.005015791859477758\n",
            "Train -> Loss: 0.0105 Acc: 0.9972\n",
            "Validation -> Loss: 0.8579 Acc: 0.8077\n",
            "Validation Accuracy: 0.8077455163002014\n",
            "\n",
            "Starting epoch 14/15, LR = [0.0001]\n",
            "Step 590, Loss 0.028642402961850166\n",
            "Step 600, Loss 0.059599120169878006\n",
            "Step 610, Loss 0.002197870286181569\n",
            "Step 620, Loss 0.004070562310516834\n",
            "Train -> Loss: 0.0136 Acc: 0.9969\n",
            "Validation -> Loss: 0.8581 Acc: 0.8071\n",
            "Validation Accuracy: 0.8070539832115173\n",
            "\n",
            "Starting epoch 15/15, LR = [0.0001]\n",
            "Step 630, Loss 0.07473161071538925\n",
            "Step 640, Loss 0.012620525434613228\n",
            "Step 650, Loss 0.0078035076148808\n",
            "Step 660, Loss 0.001574902911670506\n",
            "Step 670, Loss 0.021137621253728867\n",
            "Train -> Loss: 0.0115 Acc: 0.9979\n",
            "Validation -> Loss: 0.8589 Acc: 0.8074\n",
            "Validation Accuracy: 0.8073997497558594\n",
            "\n",
            "Training complete in 6m 45s\n",
            "Best val Acc: 0.807746\n"
          ],
          "name": "stdout"
        }
      ]
    },
    {
      "cell_type": "markdown",
      "metadata": {
        "id": "tlTZmwjTL1qE"
      },
      "source": [
        "**Plot Loss**"
      ]
    },
    {
      "cell_type": "code",
      "metadata": {
        "id": "yJZg3oMJL4_u",
        "outputId": "51b173d1-1924-4220-9b44-fd4fcd71cdb3",
        "colab": {
          "base_uri": "https://localhost:8080/",
          "height": 583
        }
      },
      "source": [
        "plot_loss(train_loss, val_loss)\n",
        "plot_accuracy(train_acc, val_acc)"
      ],
      "execution_count": 19,
      "outputs": [
        {
          "output_type": "display_data",
          "data": {
            "image/png": "[encoded data removed]",
            "text/plain": [
              "<Figure size 432x288 with 1 Axes>"
            ]
          },
          "metadata": {
            "tags": [],
            "needs_background": "light"
          }
        },
        {
          "output_type": "display_data",
          "data": {
            "image/png": "[encoded data removed]",
            "text/plain": [
              "<Figure size 432x288 with 1 Axes>"
            ]
          },
          "metadata": {
            "tags": [],
            "needs_background": "light"
          }
        }
      ]
    },
    {
      "cell_type": "markdown",
      "metadata": {
        "id": "jxekmR745ySe"
      },
      "source": [
        "**Test**"
      ]
    },
    {
      "cell_type": "code",
      "metadata": {
        "id": "csQHmoib6llf",
        "outputId": "fd442f1b-036c-4325-a0c8-9fce28d090f2",
        "colab": {
          "base_uri": "https://localhost:8080/"
        }
      },
      "source": [
        "net = net.to(DEVICE) # this will bring the network to GPU if DEVICE is cuda\n",
        "net.train(False) # Set Network to evaluation mode\n",
        "\n",
        "running_corrects = 0\n",
        "for images, labels in tqdm(test_dataloader):\n",
        "  images = images.to(DEVICE)\n",
        "  labels = labels.to(DEVICE)\n",
        "\n",
        "  # Forward Pass\n",
        "  outputs = net(images)\n",
        "\n",
        "  # Get predictions\n",
        "  _, preds = torch.max(outputs.data, 1)\n",
        "\n",
        "  # Update Corrects\n",
        "  running_corrects += torch.sum(preds == labels.data).data.item()\n",
        "\n",
        "# Calculate Accuracy\n",
        "accuracy = running_corrects / float(len(test_dataset))\n",
        "\n",
        "print('Test Accuracy: {}'.format(accuracy))"
      ],
      "execution_count": 20,
      "outputs": [
        {
          "output_type": "stream",
          "text": [
            "100%|██████████| 46/46 [00:13<00:00,  3.36it/s]"
          ],
          "name": "stderr"
        },
        {
          "output_type": "stream",
          "text": [
            "Test Accuracy: 0.8216384376080194\n"
          ],
          "name": "stdout"
        },
        {
          "output_type": "stream",
          "text": [
            "\n"
          ],
          "name": "stderr"
        }
      ]
    },
    {
      "cell_type": "code",
      "metadata": {
        "id": "fSHcUqLB5yWO"
      },
      "source": [
        "# Test with Ten Crop transformation\n",
        "\n",
        "if TEN_CROP_TEST:\n",
        "\n",
        "  net = net.to(DEVICE) # this will bring the network to GPU if DEVICE is cuda\n",
        "  net.train(False) # Set Network to evaluation mode\n",
        "\n",
        "  running_test_loss = 0\n",
        "  running_test_corrects = 0\n",
        "\n",
        "  for images, labels in test_dataloader:\n",
        "\n",
        "    images = images.to(DEVICE)\n",
        "    labels = labels.to(DEVICE)\n",
        "\n",
        "    #images = torch.autograd.Variable(images, volatile=True)\n",
        "    #labels = torch.autograd.Variable(labels, volatile=True)\n",
        "    optimizer.zero_grad()\n",
        "\n",
        "    with torch.no_grad():\n",
        "\n",
        "      bs, ncrops, c, h, w = images.size()\n",
        "\n",
        "      result = net(images.view(-1, c, h, w)) # fuse batch size and ncrops\n",
        "\n",
        "      result_avg = result.view(bs, ncrops, -1).mean(1) # avg over crops\n",
        "\n",
        "      _, preds = torch.max(result_avg.data, 1)\n",
        "\n",
        "      test_loss = criterion(result_avg, labels)\n",
        "\n",
        "    running_test_loss += loss.item() * images.size(0)\n",
        "    running_test_corrects += torch.sum(preds == labels.data).data.item()  \n",
        "    \n",
        "    # Calculate Accuracy\n",
        "  test_accuracy = running_test_corrects / float(len(test_dataset))\n",
        "  test_loss = running_test_loss / float(len(test_dataset))\n",
        "  print('Test Accuracy: {}'.format(accuracy))\n",
        "  print('Test Loss: {}'.format(test_loss))"
      ],
      "execution_count": null,
      "outputs": []
    },
    {
      "cell_type": "markdown",
      "metadata": {
        "id": "IfODWi-sRkft"
      },
      "source": [
        "**Visualizing the model predictions**"
      ]
    },
    {
      "cell_type": "code",
      "metadata": {
        "id": "JSTcV7TkRp2Y"
      },
      "source": [
        "if VISUALIZE_PREDICTIONS:\n",
        "\n",
        "  def imshow(inp, title=None):\n",
        "      \"\"\"Imshow for Tensor.\"\"\"\n",
        "      inp = inp.numpy().transpose((1, 2, 0))\n",
        "      #mean = np.array([0.485, 0.456, 0.406])\n",
        "      #std = np.array([0.229, 0.224, 0.225])\n",
        "      mean = np.array([0.5, 0.5, 0.5])\n",
        "      std = np.array([0.5, 0.5, 0.5])\n",
        "      inp = std * inp + mean\n",
        "      inp = np.clip(inp, 0, 1)\n",
        "      plt.imshow(inp)\n",
        "      if title is not None:\n",
        "          plt.title(title)\n",
        "      plt.pause(0.001)  # pause a bit so that plots are updated\n",
        "\n",
        "\n",
        "  def visualize_model(model, num_images=6):\n",
        "      was_training = model.training\n",
        "      model.eval()\n",
        "      images_so_far = 0\n",
        "      fig = plt.figure()\n",
        "\n",
        "      with torch.no_grad():\n",
        "          for i, (inputs, labels) in enumerate(val_dataloader):\n",
        "              inputs = inputs.to(DEVICE)\n",
        "              labels = labels.to(DEVICE)\n",
        "\n",
        "              outputs = model(inputs)\n",
        "              _, preds = torch.max(outputs, 1)\n",
        "\n",
        "              for j in range(inputs.size()[0]):\n",
        "                  images_so_far += 1\n",
        "                  ax = plt.subplot(num_images//2, 2, images_so_far)\n",
        "                  ax.axis('off')\n",
        "                  ax.set_title('predicted: {}'.format(classes[preds[j]]))\n",
        "                  imshow(inputs.cpu().data[j])\n",
        "\n",
        "                  if images_so_far == num_images:\n",
        "                      model.train(mode=was_training)\n",
        "                      return\n",
        "          model.train(mode=was_training)"
      ],
      "execution_count": 23,
      "outputs": []
    },
    {
      "cell_type": "code",
      "metadata": {
        "id": "lL3RhfpDSLPq"
      },
      "source": [
        "if VISUALIZE_PREDICTIONS:\n",
        "\n",
        "  visualize_model(net, 4)"
      ],
      "execution_count": 22,
      "outputs": []
    }
  ]
}